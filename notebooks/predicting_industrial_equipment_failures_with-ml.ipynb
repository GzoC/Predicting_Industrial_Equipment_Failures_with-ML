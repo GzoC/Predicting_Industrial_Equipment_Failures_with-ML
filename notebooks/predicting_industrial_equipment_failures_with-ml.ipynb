{
 "cells": [
  {
   "cell_type": "code",
   "execution_count": 2,
   "id": "b7391c55-91ff-44a0-b329-b1bc9b0f2d53",
   "metadata": {},
   "outputs": [],
   "source": [
    "\"\"\"\n",
    "Título: Proyecto de Predicción de Fallos en Equipos Industriales\n",
    "Autor: Gonzalo Cisterna Salinas\n",
    "Descripción: Este notebook incluye todos los pasos para la predicción de fallos\n",
    "en maquinaria industrial utilizando Python y scikit-learn.\n",
    "\"\"\"\n",
    "\n",
    "# ===============================\n",
    "# CELDA 1: IMPORTACIÓN DE LIBRERÍAS\n",
    "# ===============================\n",
    "\n",
    "import pandas as pd\n",
    "import numpy as np\n",
    "import matplotlib.pyplot as plt\n",
    "import seaborn as sns\n",
    "from sklearn.model_selection import train_test_split\n",
    "from sklearn.preprocessing import StandardScaler\n",
    "from sklearn.linear_model import LogisticRegression\n",
    "from sklearn.tree import DecisionTreeClassifier\n",
    "from sklearn.ensemble import RandomForestClassifier\n",
    "from sklearn.metrics import accuracy_score, classification_report, confusion_matrix\n",
    "\n",
    "# Aseguramos que las gráficas se muestren en línea\n",
    "%matplotlib inline\n"
   ]
  },
  {
   "cell_type": "code",
   "execution_count": null,
   "id": "0eb73a47-e807-4859-a0b0-55caf9c45ffe",
   "metadata": {},
   "outputs": [],
   "source": []
  }
 ],
 "metadata": {
  "kernelspec": {
   "display_name": "Python 3 (ipykernel)",
   "language": "python",
   "name": "python3"
  },
  "language_info": {
   "codemirror_mode": {
    "name": "ipython",
    "version": 3
   },
   "file_extension": ".py",
   "mimetype": "text/x-python",
   "name": "python",
   "nbconvert_exporter": "python",
   "pygments_lexer": "ipython3",
   "version": "3.12.7"
  }
 },
 "nbformat": 4,
 "nbformat_minor": 5
}
