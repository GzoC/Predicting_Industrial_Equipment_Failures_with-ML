{
 "cells": [
  {
   "cell_type": "markdown",
   "id": "c02707f1-d2fc-4cef-b97f-bc626f299d70",
   "metadata": {},
   "source": [
    "\"\"\"\n",
    "Proyecto de Predicción de Fallos en Equipos Industriales (Versión Mejorada)\n",
    "Autor: Gonzalo Cisterna Salinas\n",
    "Descripción: Este notebook contiene un flujo completo de ciencia de datos para la predicción\n",
    "de fallas en equipos industriales, usando Python y librerías como pandas, numpy, scikit-learn.\n",
    "\"\"\""
   ]
  },
  {
   "cell_type": "code",
   "execution_count": 1,
   "id": "8ce0fc10-acd6-4689-ace5-7badafceab06",
   "metadata": {},
   "outputs": [],
   "source": [
    "# =================================\n",
    "# CELDA 1: IMPORTACIONES\n",
    "# =================================\n",
    "\n",
    "import pandas as pd\n",
    "import numpy as np\n",
    "import matplotlib.pyplot as plt\n",
    "import seaborn as sns\n",
    "\n",
    "# Librerías de scikit-learn\n",
    "from sklearn.model_selection import train_test_split, GridSearchCV\n",
    "from sklearn.preprocessing import StandardScaler\n",
    "from sklearn.linear_model import LogisticRegression\n",
    "from sklearn.tree import DecisionTreeClassifier\n",
    "from sklearn.ensemble import RandomForestClassifier\n",
    "from sklearn.metrics import (\n",
    "    accuracy_score,\n",
    "    classification_report,\n",
    "    confusion_matrix\n",
    ")\n",
    "\n",
    "# Para ver las gráficas directamente en el Notebook\n",
    "%matplotlib inline"
   ]
  },
  {
   "cell_type": "code",
   "execution_count": 7,
   "id": "ed779563-56ea-4075-bb80-9d830f896658",
   "metadata": {},
   "outputs": [
    {
     "data": {
      "text/html": [
       "<div>\n",
       "<style scoped>\n",
       "    .dataframe tbody tr th:only-of-type {\n",
       "        vertical-align: middle;\n",
       "    }\n",
       "\n",
       "    .dataframe tbody tr th {\n",
       "        vertical-align: top;\n",
       "    }\n",
       "\n",
       "    .dataframe thead th {\n",
       "        text-align: right;\n",
       "    }\n",
       "</style>\n",
       "<table border=\"1\" class=\"dataframe\">\n",
       "  <thead>\n",
       "    <tr style=\"text-align: right;\">\n",
       "      <th></th>\n",
       "      <th>temp_sensor</th>\n",
       "      <th>vibration_sensor</th>\n",
       "      <th>pressure_sensor</th>\n",
       "      <th>hours_since_maintenance</th>\n",
       "      <th>machine_type</th>\n",
       "      <th>failure</th>\n",
       "    </tr>\n",
       "  </thead>\n",
       "  <tbody>\n",
       "    <tr>\n",
       "      <th>0</th>\n",
       "      <td>79.967142</td>\n",
       "      <td>4.185806</td>\n",
       "      <td>105.224294</td>\n",
       "      <td>891</td>\n",
       "      <td>TypeA</td>\n",
       "      <td>0</td>\n",
       "    </tr>\n",
       "    <tr>\n",
       "      <th>1</th>\n",
       "      <td>73.617357</td>\n",
       "      <td>4.633401</td>\n",
       "      <td>104.249854</td>\n",
       "      <td>497</td>\n",
       "      <td>TypeB</td>\n",
       "      <td>0</td>\n",
       "    </tr>\n",
       "    <tr>\n",
       "      <th>2</th>\n",
       "      <td>81.476885</td>\n",
       "      <td>4.283143</td>\n",
       "      <td>85.952202</td>\n",
       "      <td>959</td>\n",
       "      <td>TypeC</td>\n",
       "      <td>0</td>\n",
       "    </tr>\n",
       "    <tr>\n",
       "      <th>3</th>\n",
       "      <td>90.230299</td>\n",
       "      <td>5.132502</td>\n",
       "      <td>108.693763</td>\n",
       "      <td>875</td>\n",
       "      <td>TypeB</td>\n",
       "      <td>0</td>\n",
       "    </tr>\n",
       "    <tr>\n",
       "      <th>4</th>\n",
       "      <td>72.658466</td>\n",
       "      <td>6.436614</td>\n",
       "      <td>77.648760</td>\n",
       "      <td>963</td>\n",
       "      <td>TypeC</td>\n",
       "      <td>1</td>\n",
       "    </tr>\n",
       "  </tbody>\n",
       "</table>\n",
       "</div>"
      ],
      "text/plain": [
       "   temp_sensor  vibration_sensor  pressure_sensor  hours_since_maintenance  \\\n",
       "0    79.967142          4.185806       105.224294                      891   \n",
       "1    73.617357          4.633401       104.249854                      497   \n",
       "2    81.476885          4.283143        85.952202                      959   \n",
       "3    90.230299          5.132502       108.693763                      875   \n",
       "4    72.658466          6.436614        77.648760                      963   \n",
       "\n",
       "  machine_type  failure  \n",
       "0        TypeA        0  \n",
       "1        TypeB        0  \n",
       "2        TypeC        0  \n",
       "3        TypeB        0  \n",
       "4        TypeC        1  "
      ]
     },
     "execution_count": 7,
     "metadata": {},
     "output_type": "execute_result"
    }
   ],
   "source": [
    "# ===============================\n",
    "# CELDA 2: CARGA DEL DATASET\n",
    "# ===============================\n",
    "\n",
    "# Comentario: Leemos el archivo CSV que contiene los datos. Ajusta la ruta si es necesario.\n",
    "# Asegúrate de tener el archivo 'machine_failure_data.csv' en la misma carpeta que este notebook\n",
    "# o en la ruta adecuada.\n",
    "df = pd.read_csv('machine_failure_data.csv')\n",
    "\n",
    "# Comentario: Vemos las primeras filas para confirmar la lectura correcta de datos.\n",
    "df.head()"
   ]
  },
  {
   "cell_type": "code",
   "execution_count": 8,
   "id": "1c2cc64c-41db-4972-ba98-8dd23038e627",
   "metadata": {},
   "outputs": [
    {
     "name": "stdout",
     "output_type": "stream",
     "text": [
      "Dimensiones del dataset: (10000, 6)\n",
      "<class 'pandas.core.frame.DataFrame'>\n",
      "RangeIndex: 10000 entries, 0 to 9999\n",
      "Data columns (total 6 columns):\n",
      " #   Column                   Non-Null Count  Dtype  \n",
      "---  ------                   --------------  -----  \n",
      " 0   temp_sensor              10000 non-null  float64\n",
      " 1   vibration_sensor         10000 non-null  float64\n",
      " 2   pressure_sensor          10000 non-null  float64\n",
      " 3   hours_since_maintenance  10000 non-null  int64  \n",
      " 4   machine_type             10000 non-null  object \n",
      " 5   failure                  10000 non-null  int64  \n",
      "dtypes: float64(3), int64(2), object(1)\n",
      "memory usage: 468.9+ KB\n"
     ]
    },
    {
     "data": {
      "text/plain": [
       "temp_sensor                0\n",
       "vibration_sensor           0\n",
       "pressure_sensor            0\n",
       "hours_since_maintenance    0\n",
       "machine_type               0\n",
       "failure                    0\n",
       "dtype: int64"
      ]
     },
     "execution_count": 8,
     "metadata": {},
     "output_type": "execute_result"
    }
   ],
   "source": [
    "# ===============================\n",
    "# CELDA 3: EXPLORACIÓN INICIAL DE DATOS\n",
    "# ===============================\n",
    "\n",
    "# Comentario: Observamos la dimensión (filas x columnas).\n",
    "print(\"Dimensiones del dataset:\", df.shape)\n",
    "\n",
    "# Comentario: Vemos el tipo de cada columna, número de valores no nulos, etc.\n",
    "df.info()\n",
    "\n",
    "# Comentario: Descripción estadística de variables numéricas (promedio, desviación, etc.).\n",
    "df.describe()\n",
    "\n",
    "# Comentario: Checamos si hay valores nulos en cada columna.\n",
    "df.isnull().sum()"
   ]
  },
  {
   "cell_type": "code",
   "execution_count": 4,
   "id": "321b8e52-53b6-44d3-a54d-1d6b1a6386b1",
   "metadata": {},
   "outputs": [
    {
     "name": "stdout",
     "output_type": "stream",
     "text": [
      "Valores nulos por columna:\n",
      "temp_sensor                0\n",
      "vibration_sensor           0\n",
      "pressure_sensor            0\n",
      "hours_since_maintenance    0\n",
      "machine_type               0\n",
      "failure                    0\n",
      "dtype: int64\n",
      "Filas duplicadas en el dataset: 0\n"
     ]
    }
   ],
   "source": [
    "# ===============================\n",
    "# CELDA 4: REVISIÓN DE NULOS Y LIMPIEZA\n",
    "# ===============================\n",
    "\n",
    "# Comentario: Revisamos si hay valores nulos en cada columna del dataset\n",
    "print(\"Valores nulos por columna:\")\n",
    "print(df.isnull().sum())\n",
    "\n",
    "# Comentario: Si hubiera valores nulos, los manejaríamos. Por ejemplo:\n",
    "# 1. Eliminar filas con nulos:\n",
    "# df.dropna(inplace=True)\n",
    "\n",
    "# 2. Imputar valores (reemplazar nulos con un valor específico, como la media):\n",
    "# df['columna'].fillna(df['columna'].mean(), inplace=True)\n",
    "\n",
    "# En este caso, el análisis previo muestra que no hay valores nulos,\n",
    "# por lo que no es necesario realizar limpieza adicional.\n",
    "\n",
    "# Comentario: Confirmamos que no hay duplicados en el dataset\n",
    "duplicados = df.duplicated().sum()\n",
    "print(f\"Filas duplicadas en el dataset: {duplicados}\")\n",
    "\n",
    "# Si hubiera duplicados, podríamos eliminarlos:\n",
    "# df.drop_duplicates(inplace=True)\n",
    "\n",
    "# Comentario: A partir de aquí, los datos están listos para el análisis exploratorio adicional.\n"
   ]
  },
  {
   "cell_type": "code",
   "execution_count": 8,
   "id": "0d49a1df-7f1e-444f-a6cc-0670c694f732",
   "metadata": {},
   "outputs": [
    {
     "data": {
      "image/png": "[encoded data removed]",
      "text/plain": [
       "<Figure size 640x480 with 1 Axes>"
      ]
     },
     "metadata": {},
     "output_type": "display_data"
    },
    {
     "data": {
      "image/png": "[encoded data removed]",
      "text/plain": [
       "<Figure size 800x600 with 2 Axes>"
      ]
     },
     "metadata": {},
     "output_type": "display_data"
    }
   ],
   "source": [
    "# ===============================\n",
    "# CELDA 5: ANÁLISIS EXPLORATORIO ADICIONAL\n",
    "# ===============================\n",
    "\n",
    "# Distribución de la variable objetivo (failure)\n",
    "sns.countplot(data=df, x='failure')\n",
    "plt.title(\"Distribución de la variable 'failure' (0=No falla, 1=Falla)\")\n",
    "plt.show()\n",
    "\n",
    "# Filtrar solo columnas numéricas para calcular la matriz de correlación\n",
    "df_numeric = df.select_dtypes(include=['float64', 'int64'])  # Excluir columnas categóricas\n",
    "\n",
    "# Mapa de calor de correlación (para variables numéricas)\n",
    "plt.figure(figsize=(8, 6))\n",
    "sns.heatmap(df_numeric.corr(), annot=True, cmap='coolwarm', fmt='.2f')\n",
    "plt.title(\"Matriz de Correlaciones (Variables Numéricas)\")\n",
    "plt.show()"
   ]
  },
  {
   "cell_type": "code",
   "execution_count": 10,
   "id": "9f6be065-2637-43cb-930a-de4652a5e0f8",
   "metadata": {},
   "outputs": [
    {
     "name": "stdout",
     "output_type": "stream",
     "text": [
      "Dimensiones de X (características): (10000, 6)\n",
      "Dimensiones de y (variable objetivo): (10000,)\n"
     ]
    }
   ],
   "source": [
    "# ===============================\n",
    "# CELDA 6: SELECCIÓN DE CARACTERÍSTICAS (FEATURES) Y VARIABLE OBJETIVO (TARGET)\n",
    "# ===============================\n",
    "\n",
    "# Comentario: Asumimos que la columna 'failure' es nuestra variable objetivo (0 o 1)\n",
    "y = df['failure']  # Variable objetivo\n",
    "\n",
    "# Comentario: Eliminamos la columna 'failure' y otras que no sean relevantes para los modelos\n",
    "X = df.drop('failure', axis=1)\n",
    "\n",
    "# Comentario: Verificamos si hay columnas categóricas y aplicamos One-Hot Encoding si es necesario\n",
    "# Esto convierte columnas como 'machine_type' en variables numéricas binarias\n",
    "X = pd.get_dummies(X, drop_first=True)  # drop_first=True elimina una columna dummy redundante\n",
    "\n",
    "# Comentario: Revisamos las dimensiones finales de las características y la variable objetivo\n",
    "print(\"Dimensiones de X (características):\", X.shape)\n",
    "print(\"Dimensiones de y (variable objetivo):\", y.shape)\n"
   ]
  },
  {
   "cell_type": "code",
   "execution_count": 11,
   "id": "017f12cc-4c88-491d-aed1-4744c42d0ea9",
   "metadata": {},
   "outputs": [
    {
     "name": "stdout",
     "output_type": "stream",
     "text": [
      "Tamaño de X_train: (8000, 6)\n",
      "Tamaño de X_test: (2000, 6)\n",
      "Tamaño de y_train: (8000,)\n",
      "Tamaño de y_test: (2000,)\n",
      "Primeras filas de X_train:\n",
      "      temp_sensor  vibration_sensor  pressure_sensor  hours_since_maintenance  \\\n",
      "9254    77.190716          7.894852       107.748780                      749   \n",
      "1561    67.527883          3.628469       122.594439                      419   \n",
      "1670    72.610679          3.063958       107.551183                      380   \n",
      "6087    59.521984          5.289295        80.924648                       39   \n",
      "6669    82.026600          4.773130       137.240166                      708   \n",
      "\n",
      "      machine_type_TypeB  machine_type_TypeC  \n",
      "9254               False                True  \n",
      "1561               False               False  \n",
      "1670               False               False  \n",
      "6087               False                True  \n",
      "6669               False               False  \n"
     ]
    }
   ],
   "source": [
    "# ===============================\n",
    "# CELDA 7: DIVISIÓN ENTRENAMIENTO/PRUEBA\n",
    "# ===============================\n",
    "\n",
    "# Comentario: Dividimos los datos en entrenamiento (80%) y prueba (20%)\n",
    "# La semilla (random_state=42) asegura la reproducibilidad de los resultados\n",
    "from sklearn.model_selection import train_test_split\n",
    "\n",
    "X_train, X_test, y_train, y_test = train_test_split(\n",
    "    X, y, \n",
    "    test_size=0.2,        # 20% de los datos se usan para prueba\n",
    "    random_state=42       # Semilla para reproducibilidad\n",
    ")\n",
    "\n",
    "# Comentario: Verificamos las dimensiones de los conjuntos de entrenamiento y prueba\n",
    "print(\"Tamaño de X_train:\", X_train.shape)\n",
    "print(\"Tamaño de X_test:\", X_test.shape)\n",
    "print(\"Tamaño de y_train:\", y_train.shape)\n",
    "print(\"Tamaño de y_test:\", y_test.shape)\n",
    "\n",
    "# Comentario: Observamos una muestra de los datos de entrenamiento para confirmar la división\n",
    "print(\"Primeras filas de X_train:\")\n",
    "print(X_train.head())\n"
   ]
  },
  {
   "cell_type": "code",
   "execution_count": 12,
   "id": "97a6b61c-53b9-40bb-8cf2-1e2241d7eba3",
   "metadata": {},
   "outputs": [
    {
     "name": "stdout",
     "output_type": "stream",
     "text": [
      "Primera fila de X_train (original): [np.float64(77.19071562537668) np.float64(7.894851984708614)\n",
      " np.float64(107.74878036968752) np.int64(749) np.False_ np.True_]\n",
      "Primera fila de X_train (escalada): [ 0.2156595   2.3982164   0.52788703  0.86760059 -0.7117523   1.43257465]\n"
     ]
    }
   ],
   "source": [
    "# ===============================\n",
    "# CELDA 8: ESCALADO DE CARACTERÍSTICAS\n",
    "# ===============================\n",
    "\n",
    "# Comentario: Muchos modelos funcionan mejor si las características tienen escalas similares.\n",
    "# Usamos StandardScaler para escalar las características.\n",
    "\n",
    "from sklearn.preprocessing import StandardScaler\n",
    "\n",
    "# Crear el escalador\n",
    "scaler = StandardScaler()\n",
    "\n",
    "# Ajustar el escalador solo con los datos de entrenamiento\n",
    "scaler.fit(X_train)\n",
    "\n",
    "# Transformar los datos de entrenamiento y prueba\n",
    "X_train_scaled = scaler.transform(X_train)\n",
    "X_test_scaled = scaler.transform(X_test)\n",
    "\n",
    "# Comentario: Verificamos cómo lucen los datos escalados (primera fila del conjunto de entrenamiento)\n",
    "print(\"Primera fila de X_train (original):\", X_train.iloc[0].values)\n",
    "print(\"Primera fila de X_train (escalada):\", X_train_scaled[0])\n"
   ]
  },
  {
   "cell_type": "code",
   "execution_count": 3,
   "id": "0d10e1f5-9430-458a-aeb3-0775a728cee1",
   "metadata": {},
   "outputs": [
    {
     "ename": "NameError",
     "evalue": "name 'X_train_scaled' is not defined",
     "output_type": "error",
     "traceback": [
      "\u001b[1;31m---------------------------------------------------------------------------\u001b[0m",
      "\u001b[1;31mNameError\u001b[0m                                 Traceback (most recent call last)",
      "Cell \u001b[1;32mIn[3], line 13\u001b[0m\n\u001b[0;32m     10\u001b[0m log_model \u001b[38;5;241m=\u001b[39m LogisticRegression(random_state\u001b[38;5;241m=\u001b[39m\u001b[38;5;241m42\u001b[39m)\n\u001b[0;32m     12\u001b[0m \u001b[38;5;66;03m# Entrenar el modelo con los datos de entrenamiento escalados\u001b[39;00m\n\u001b[1;32m---> 13\u001b[0m log_model\u001b[38;5;241m.\u001b[39mfit(\u001b[43mX_train_scaled\u001b[49m, y_train)\n\u001b[0;32m     15\u001b[0m \u001b[38;5;66;03m# Hacer predicciones con el conjunto de prueba\u001b[39;00m\n\u001b[0;32m     16\u001b[0m y_pred_log \u001b[38;5;241m=\u001b[39m log_model\u001b[38;5;241m.\u001b[39mpredict(X_test_scaled)\n",
      "\u001b[1;31mNameError\u001b[0m: name 'X_train_scaled' is not defined"
     ]
    }
   ],
   "source": [
    "# ===============================\n",
    "# CELDA 9: MODELO 1 - REGRESIÓN LOGÍSTICA\n",
    "# ===============================\n",
    "\n",
    "# Comentario: Entrenamos un modelo de Regresión Logística usando los datos escalados\n",
    "from sklearn.linear_model import LogisticRegression\n",
    "from sklearn.metrics import accuracy_score, classification_report, confusion_matrix\n",
    "\n",
    "# Crear una instancia del modelo de Regresión Logística\n",
    "log_model = LogisticRegression(random_state=42)\n",
    "\n",
    "# Entrenar el modelo con los datos de entrenamiento escalados\n",
    "log_model.fit(X_train_scaled, y_train)\n",
    "\n",
    "# Hacer predicciones con el conjunto de prueba\n",
    "y_pred_log = log_model.predict(X_test_scaled)\n",
    "\n",
    "# ===============================\n",
    "# EVALUACIÓN DEL MODELO\n",
    "# ===============================\n",
    "\n",
    "# Calcular la precisión del modelo\n",
    "accuracy_log = accuracy_score(y_test, y_pred_log)\n",
    "print(f\"Precisión del modelo (Regresión Logística): {accuracy_log:.4f}\")\n",
    "\n",
    "# Mostrar el reporte de clasificación\n",
    "print(\"\\nReporte de Clasificación (Regresión Logística):\\n\")\n",
    "print(classification_report(y_test, y_pred_log))\n",
    "\n",
    "# Mostrar la matriz de confusión\n",
    "print(\"\\nMatriz de Confusión (Regresión Logística):\\n\")\n",
    "print(confusion_matrix(y_test, y_pred_log))\n"
   ]
  },
  {
   "cell_type": "code",
   "execution_count": null,
   "id": "4e874ad4-71d4-4b42-91e0-20be352782ff",
   "metadata": {},
   "outputs": [],
   "source": []
  }
 ],
 "metadata": {
  "kernelspec": {
   "display_name": "Python 3 (ipykernel)",
   "language": "python",
   "name": "python3"
  },
  "language_info": {
   "codemirror_mode": {
    "name": "ipython",
    "version": 3
   },
   "file_extension": ".py",
   "mimetype": "text/x-python",
   "name": "python",
   "nbconvert_exporter": "python",
   "pygments_lexer": "ipython3",
   "version": "3.12.7"
  }
 },
 "nbformat": 4,
 "nbformat_minor": 5
}
