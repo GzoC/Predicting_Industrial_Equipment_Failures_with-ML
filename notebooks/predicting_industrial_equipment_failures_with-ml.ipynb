{
 "cells": [
  {
   "cell_type": "markdown",
   "id": "c02707f1-d2fc-4cef-b97f-bc626f299d70",
   "metadata": {},
   "source": [
    "\"\"\"\n",
    "Proyecto de Predicción de Fallos en Equipos Industriales (Versión Mejorada)\n",
    "Autor: Gonzalo Cisterna Salinas\n",
    "Descripción: Este notebook contiene un flujo completo de ciencia de datos para la predicción\n",
    "de fallas en equipos industriales, usando Python y librerías como pandas, numpy, scikit-learn.\n",
    "\"\"\""
   ]
  },
  {
   "cell_type": "code",
   "execution_count": 1,
   "id": "8ce0fc10-acd6-4689-ace5-7badafceab06",
   "metadata": {},
   "outputs": [],
   "source": [
    "# =================================\n",
    "# CELDA 1: IMPORTACIONES\n",
    "# =================================\n",
    "\n",
    "import pandas as pd\n",
    "import numpy as np\n",
    "import matplotlib.pyplot as plt\n",
    "import seaborn as sns\n",
    "\n",
    "# Librerías de scikit-learn\n",
    "from sklearn.model_selection import train_test_split, GridSearchCV\n",
    "from sklearn.preprocessing import StandardScaler\n",
    "from sklearn.linear_model import LogisticRegression\n",
    "from sklearn.tree import DecisionTreeClassifier\n",
    "from sklearn.ensemble import RandomForestClassifier\n",
    "from sklearn.metrics import (\n",
    "    accuracy_score,\n",
    "    classification_report,\n",
    "    confusion_matrix\n",
    ")\n",
    "\n",
    "# Para ver las gráficas directamente en el Notebook\n",
    "%matplotlib inline"
   ]
  },
  {
   "cell_type": "code",
   "execution_count": 2,
   "id": "ed779563-56ea-4075-bb80-9d830f896658",
   "metadata": {},
   "outputs": [
    {
     "data": {
      "text/html": [
       "<div>\n",
       "<style scoped>\n",
       "    .dataframe tbody tr th:only-of-type {\n",
       "        vertical-align: middle;\n",
       "    }\n",
       "\n",
       "    .dataframe tbody tr th {\n",
       "        vertical-align: top;\n",
       "    }\n",
       "\n",
       "    .dataframe thead th {\n",
       "        text-align: right;\n",
       "    }\n",
       "</style>\n",
       "<table border=\"1\" class=\"dataframe\">\n",
       "  <thead>\n",
       "    <tr style=\"text-align: right;\">\n",
       "      <th></th>\n",
       "      <th>temp_sensor</th>\n",
       "      <th>vibration_sensor</th>\n",
       "      <th>pressure_sensor</th>\n",
       "      <th>hours_since_maintenance</th>\n",
       "      <th>machine_type</th>\n",
       "      <th>failure</th>\n",
       "    </tr>\n",
       "  </thead>\n",
       "  <tbody>\n",
       "    <tr>\n",
       "      <th>0</th>\n",
       "      <td>79.967142</td>\n",
       "      <td>4.185806</td>\n",
       "      <td>105.224294</td>\n",
       "      <td>891</td>\n",
       "      <td>TypeA</td>\n",
       "      <td>0</td>\n",
       "    </tr>\n",
       "    <tr>\n",
       "      <th>1</th>\n",
       "      <td>73.617357</td>\n",
       "      <td>4.633401</td>\n",
       "      <td>104.249854</td>\n",
       "      <td>497</td>\n",
       "      <td>TypeB</td>\n",
       "      <td>0</td>\n",
       "    </tr>\n",
       "    <tr>\n",
       "      <th>2</th>\n",
       "      <td>81.476885</td>\n",
       "      <td>4.283143</td>\n",
       "      <td>85.952202</td>\n",
       "      <td>959</td>\n",
       "      <td>TypeC</td>\n",
       "      <td>0</td>\n",
       "    </tr>\n",
       "    <tr>\n",
       "      <th>3</th>\n",
       "      <td>90.230299</td>\n",
       "      <td>5.132502</td>\n",
       "      <td>108.693763</td>\n",
       "      <td>875</td>\n",
       "      <td>TypeB</td>\n",
       "      <td>0</td>\n",
       "    </tr>\n",
       "    <tr>\n",
       "      <th>4</th>\n",
       "      <td>72.658466</td>\n",
       "      <td>6.436614</td>\n",
       "      <td>77.648760</td>\n",
       "      <td>963</td>\n",
       "      <td>TypeC</td>\n",
       "      <td>1</td>\n",
       "    </tr>\n",
       "  </tbody>\n",
       "</table>\n",
       "</div>"
      ],
      "text/plain": [
       "   temp_sensor  vibration_sensor  pressure_sensor  hours_since_maintenance  \\\n",
       "0    79.967142          4.185806       105.224294                      891   \n",
       "1    73.617357          4.633401       104.249854                      497   \n",
       "2    81.476885          4.283143        85.952202                      959   \n",
       "3    90.230299          5.132502       108.693763                      875   \n",
       "4    72.658466          6.436614        77.648760                      963   \n",
       "\n",
       "  machine_type  failure  \n",
       "0        TypeA        0  \n",
       "1        TypeB        0  \n",
       "2        TypeC        0  \n",
       "3        TypeB        0  \n",
       "4        TypeC        1  "
      ]
     },
     "execution_count": 2,
     "metadata": {},
     "output_type": "execute_result"
    }
   ],
   "source": [
    "# ===============================\n",
    "# CELDA 2: CARGA DEL DATASET\n",
    "# ===============================\n",
    "\n",
    "# Comentario: Leemos el archivo CSV que contiene los datos. Ajusta la ruta si es necesario.\n",
    "# Asegúrate de tener el archivo 'machine_failure_data.csv' en la misma carpeta que este notebook\n",
    "# o en la ruta adecuada.\n",
    "df = pd.read_csv('machine_failure_data.csv')\n",
    "\n",
    "# Comentario: Vemos las primeras filas para confirmar la lectura correcta de datos.\n",
    "df.head()"
   ]
  },
  {
   "cell_type": "code",
   "execution_count": 3,
   "id": "1c2cc64c-41db-4972-ba98-8dd23038e627",
   "metadata": {},
   "outputs": [
    {
     "name": "stdout",
     "output_type": "stream",
     "text": [
      "Dimensiones del dataset: (10000, 6)\n",
      "<class 'pandas.core.frame.DataFrame'>\n",
      "RangeIndex: 10000 entries, 0 to 9999\n",
      "Data columns (total 6 columns):\n",
      " #   Column                   Non-Null Count  Dtype  \n",
      "---  ------                   --------------  -----  \n",
      " 0   temp_sensor              10000 non-null  float64\n",
      " 1   vibration_sensor         10000 non-null  float64\n",
      " 2   pressure_sensor          10000 non-null  float64\n",
      " 3   hours_since_maintenance  10000 non-null  int64  \n",
      " 4   machine_type             10000 non-null  object \n",
      " 5   failure                  10000 non-null  int64  \n",
      "dtypes: float64(3), int64(2), object(1)\n",
      "memory usage: 468.9+ KB\n"
     ]
    },
    {
     "data": {
      "text/plain": [
       "temp_sensor                0\n",
       "vibration_sensor           0\n",
       "pressure_sensor            0\n",
       "hours_since_maintenance    0\n",
       "machine_type               0\n",
       "failure                    0\n",
       "dtype: int64"
      ]
     },
     "execution_count": 3,
     "metadata": {},
     "output_type": "execute_result"
    }
   ],
   "source": [
    "# ===============================\n",
    "# CELDA 3: EXPLORACIÓN INICIAL DE DATOS\n",
    "# ===============================\n",
    "\n",
    "# Comentario: Observamos la dimensión (filas x columnas).\n",
    "print(\"Dimensiones del dataset:\", df.shape)\n",
    "\n",
    "# Comentario: Vemos el tipo de cada columna, número de valores no nulos, etc.\n",
    "df.info()\n",
    "\n",
    "# Comentario: Descripción estadística de variables numéricas (promedio, desviación, etc.).\n",
    "df.describe()\n",
    "\n",
    "# Comentario: Checamos si hay valores nulos en cada columna.\n",
    "df.isnull().sum()"
   ]
  },
  {
   "cell_type": "code",
   "execution_count": null,
   "id": "321b8e52-53b6-44d3-a54d-1d6b1a6386b1",
   "metadata": {},
   "outputs": [],
   "source": []
  }
 ],
 "metadata": {
  "kernelspec": {
   "display_name": "Python 3 (ipykernel)",
   "language": "python",
   "name": "python3"
  },
  "language_info": {
   "codemirror_mode": {
    "name": "ipython",
    "version": 3
   },
   "file_extension": ".py",
   "mimetype": "text/x-python",
   "name": "python",
   "nbconvert_exporter": "python",
   "pygments_lexer": "ipython3",
   "version": "3.12.7"
  }
 },
 "nbformat": 4,
 "nbformat_minor": 5
}
